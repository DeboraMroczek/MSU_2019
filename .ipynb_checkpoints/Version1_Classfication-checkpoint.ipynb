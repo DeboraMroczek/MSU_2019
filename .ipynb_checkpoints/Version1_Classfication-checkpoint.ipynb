{
 "cells": [
  {
   "cell_type": "code",
   "execution_count": 64,
   "metadata": {},
   "outputs": [],
   "source": [
    "import tensorflow.keras as keras\n",
    "import tensorflow as tf\n",
    "import os\n",
    "import pandas as pd\n",
    "import numpy as np\n",
    "import matplotlib.pyplot as plt\n",
    "import numpy as np\n",
    "from IPython.display import display\n",
    "from os import listdir\n",
    "\n",
    "#Define path for training sets\n",
    "PATHOLOGICAL_ID = \"Pathological-Training/\"\n",
    "ACCEPTABLE_ID = \"Non-Pathological-Training\"\n",
    "\n",
    "#Define functions to read files contained in training set\n",
    "def pathological_path(filename):\n",
    "    return os.path.join(PATHOLOGICAL_ID, filename)\n",
    "\n",
    "def acceptable_path(filename):\n",
    "    return os.path.join(ACCEPTABLE_ID, filename)\n",
    "\n",
    "#Name of the folder for training sets\n",
    "Names_Pathological = os.listdir('Pathological-Training')\n",
    "Names_Acceptable = os.listdir('Non-Pathological-Training')\n",
    "\n",
    "#Open first file and define pandas data frame for the pathological portion of the training set \n",
    "infile = open(pathological_path(Names_Pathological[1]),'r')\n",
    "press_pathological = pd.read_csv(infile,sep = '\\t',names = ('T','muB','P'))\n",
    "\n",
    "infile = open(acceptable_path(Names_Acceptable[1]),'r')\n",
    "press_acceptable = pd.read_csv(infile,sep = '\\t',names = ('T','muB','P'))\n",
    "\n",
    "\n",
    "#define tag for classification 0 = pathological choice, 1 = acceptable choice\n",
    "rows = len(Names_Pathological)-2\n",
    "cols = 1\n",
    "tag0 = np.zeros((rows,cols))\n",
    "tag0 = pd.DataFrame(tag0)\n",
    "\n",
    "rows = len(Names_Acceptable)-1\n",
    "cols = 1\n",
    "tag1 = np.ones((rows,cols))\n",
    "tag1 = pd.DataFrame(tag1)\n",
    "\n",
    "#Import training files and define Pandas data frame\n",
    "\n",
    "# for i in range(2,len(Names_Pathological)-2):\n",
    "#     infile = open(pathological_path(Names_Pathological[i]),'r')\n",
    "#     Press = pd.read_csv(infile,sep = '\\t',names = ('T','muB','P'))\n",
    "#     press_pathological =press_pathological.append(pd.DataFrame(Press))\n",
    "    \n",
    "\n",
    "# for i in range(2,len(Names_Acceptable)-1):\n",
    "#     infile = open(acceptable_path(Names_Acceptable[i]),'r')\n",
    "#     Press = pd.read_csv(infile,sep = '\\t',names = ('T','muB','P'))\n",
    "#     press_acceptable =press_acceptable.append(pd.DataFrame(Press))\n",
    "\n",
    "#Now we need to reshape the data to matrices\n",
    "\n",
    "#Define grid\n",
    "Tgrid = 770\n",
    "muBgrid = 451\n",
    "elements = Tgrid*muBgrid\n",
    "    \n",
    "#Produce matrices\n"
   ]
  },
  {
   "cell_type": "code",
   "execution_count": 72,
   "metadata": {},
   "outputs": [
    {
     "name": "stdout",
     "output_type": "stream",
     "text": [
      "770.0\n"
     ]
    }
   ],
   "source": [
    "data = press_acceptable.iloc[0*elements:1*elements]['P']\n",
    "x = len(data)\n",
    "\n",
    "print(x/451)\n",
    "\n",
    "# np.reshape(data,(Tgrid,muBgrid))\n"
   ]
  },
  {
   "cell_type": "code",
   "execution_count": 60,
   "metadata": {},
   "outputs": [
    {
     "data": {
      "text/plain": [
       "True"
      ]
     },
     "execution_count": 60,
     "metadata": {},
     "output_type": "execute_result"
    }
   ],
   "source": [
    "data.index.is_unique"
   ]
  },
  {
   "cell_type": "code",
   "execution_count": null,
   "metadata": {},
   "outputs": [],
   "source": []
  },
  {
   "cell_type": "code",
   "execution_count": null,
   "metadata": {},
   "outputs": [],
   "source": []
  }
 ],
 "metadata": {
  "kernelspec": {
   "display_name": "Python 3",
   "language": "python",
   "name": "python3"
  },
  "language_info": {
   "codemirror_mode": {
    "name": "ipython",
    "version": 3
   },
   "file_extension": ".py",
   "mimetype": "text/x-python",
   "name": "python",
   "nbconvert_exporter": "python",
   "pygments_lexer": "ipython3",
   "version": "3.7.3"
  }
 },
 "nbformat": 4,
 "nbformat_minor": 2
}
