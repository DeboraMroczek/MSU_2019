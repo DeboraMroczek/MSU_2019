{
 "cells": [
  {
   "cell_type": "code",
   "execution_count": 86,
   "metadata": {},
   "outputs": [],
   "source": [
    "import tensorflow.keras as keras\n",
    "import tensorflow as tf\n",
    "import os\n",
    "import pandas as pd\n",
    "import numpy as np\n",
    "import matplotlib.pyplot as plt\n",
    "from IPython.display import display\n",
    "from os import listdir\n",
    "from numpy import reshape \n",
    "from numpy import array\n",
    "from sklearn import preprocessing\n",
    "\n",
    "#Define path for training sets\n",
    "PATHOLOGICAL_ID = \"Pathological-Training/\"\n",
    "ACCEPTABLE_ID = \"Non-Pathological-Training\"\n",
    "\n",
    "#Define functions to read files contained in training set\n",
    "def pathological_path(filename):\n",
    "    return os.path.join(PATHOLOGICAL_ID, filename)\n",
    "\n",
    "def acceptable_path(filename):\n",
    "    return os.path.join(ACCEPTABLE_ID, filename)\n",
    "\n",
    "#Name of the folder for training sets\n",
    "Names_Pathological = os.listdir('Pathological-Training')\n",
    "Names_Acceptable = os.listdir('Non-Pathological-Training')\n",
    "\n",
    "#Open first file and define pandas data frame for the pathological portion of the training set \n",
    "infile = open(pathological_path(Names_Pathological[0]),'r')\n",
    "press_pathological = pd.read_csv(infile,sep = '\\t',names = ('T','muB','P'))\n",
    "\n",
    "infile = open(acceptable_path(Names_Acceptable[0]),'r')\n",
    "press_acceptable = pd.read_csv(infile,sep = '\\t',names = ('T','muB','P'))\n",
    "\n",
    "\n",
    "#Import training files and define Pandas data frame\n",
    "\n",
    "for i in range(1,len(Names_Pathological)-1):\n",
    "    infile = open(pathological_path(Names_Pathological[i]),'r')\n",
    "    Press = pd.read_csv(infile,sep = '\\t',names = ('T','muB','P'))\n",
    "    press_pathological =press_pathological.append(pd.DataFrame(Press))\n",
    "    \n",
    "\n",
    "for i in range(1,len(Names_Acceptable)-1):\n",
    "    infile = open(acceptable_path(Names_Acceptable[i]),'r')\n",
    "    Press = pd.read_csv(infile,sep = '\\t',names = ('T','muB','P'))\n",
    "    press_acceptable =press_acceptable.append(pd.DataFrame(Press))\n"
   ]
  },
  {
   "cell_type": "code",
   "execution_count": 119,
   "metadata": {},
   "outputs": [],
   "source": [
    "#Now we need to reshape the data to matrices\n",
    "\n",
    "#Define grid\n",
    "Tgrid = 771\n",
    "muBgrid = 451\n",
    "elements = Tgrid*muBgrid\n",
    "    \n",
    "#Produce matrices, the classification list contains 0 (pathological) or 1 (acceptable)\n",
    "#corresponding to the matrix\n",
    "\n",
    "for i in range(0,int(len(press_acceptable)/347721)):\n",
    "    data = press_acceptable.iloc[i*elements : (i+1)*elements]['P']\n",
    "    data = array(data)\n",
    "    data = data.reshape((data.shape[0], 1))\n",
    "    data = data.reshape(Tgrid,muBgrid)\n",
    "    if i ==0 :\n",
    "        matpress = [data]\n",
    "        classification = [1]\n",
    "    matpress.append(data)\n",
    "    classification.append(1)\n",
    "    \n",
    "for i in range(0,int(len(press_pathological)/347721)):\n",
    "    data = press_pathological.iloc[i*elements : (i+1)*elements]['P']\n",
    "    data = array(data)\n",
    "#     data = data.reshape((data.shape[0], 1))\n",
    "    data = data.reshape(Tgrid,muBgrid)\n",
    "    matpress.append(data)\n",
    "    classification.append(0)\n",
    "    \n",
    "### Now we need compute the SVD and extract the coefficients in the muB basis \n",
    "\n",
    "#first we want to take the transpose, then we want to center our matrices across the rows, then we compute the SVD\n",
    "\n",
    "for i in range(0, len(matpress)):\n",
    "    if i == 0:\n",
    "        scalled_matpress = [preprocessing.scale(matpress[0].T)]        \n",
    "    scalled_matpress.append(preprocessing.scale(matpress[i].T))\n",
    "\n",
    "#Now we compute the SVD \n",
    "\n",
    "\n",
    "      \n",
    "    "
   ]
  },
  {
   "cell_type": "code",
   "execution_count": 121,
   "metadata": {},
   "outputs": [
    {
     "data": {
      "text/plain": [
       "(451, 771)"
      ]
     },
     "execution_count": 121,
     "metadata": {},
     "output_type": "execute_result"
    }
   ],
   "source": []
  },
  {
   "cell_type": "code",
   "execution_count": null,
   "metadata": {},
   "outputs": [],
   "source": []
  },
  {
   "cell_type": "code",
   "execution_count": null,
   "metadata": {},
   "outputs": [],
   "source": []
  }
 ],
 "metadata": {
  "kernelspec": {
   "display_name": "Python 3",
   "language": "python",
   "name": "python3"
  },
  "language_info": {
   "codemirror_mode": {
    "name": "ipython",
    "version": 3
   },
   "file_extension": ".py",
   "mimetype": "text/x-python",
   "name": "python",
   "nbconvert_exporter": "python",
   "pygments_lexer": "ipython3",
   "version": "3.7.3"
  }
 },
 "nbformat": 4,
 "nbformat_minor": 2
}
