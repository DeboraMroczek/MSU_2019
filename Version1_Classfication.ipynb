{
 "cells": [
  {
   "cell_type": "code",
   "execution_count": 31,
   "metadata": {},
   "outputs": [
    {
     "name": "stdout",
     "output_type": "stream",
     "text": [
      "<_io.TextIOWrapper name='Pathological-Training/Press_Final_PAR_143_350_3_93_107_161_3D.dat' mode='r' encoding='cp1252'>\n",
      "<_io.TextIOWrapper name='Pathological-Training/Press_Final_PAR_143_350_3_93_107_53_3D.dat' mode='r' encoding='cp1252'>\n",
      "<_io.TextIOWrapper name='Pathological-Training/Press_Final_PAR_143_350_3_93_143_143_3D.dat' mode='r' encoding='cp1252'>\n",
      "<_io.TextIOWrapper name='Pathological-Training/Press_Final_PAR_143_350_3_93_143_71_3D.dat' mode='r' encoding='cp1252'>\n",
      "<_io.TextIOWrapper name='Pathological-Training/Press_Final_PAR_143_350_3_93_179_179_3D.dat' mode='r' encoding='cp1252'>\n",
      "<_io.TextIOWrapper name='Pathological-Training/Press_Final_PAR_143_350_3_93_179_89_3D.dat' mode='r' encoding='cp1252'>\n",
      "<_io.TextIOWrapper name='Pathological-Training/Press_Final_PAR_143_350_3_93_214_107_3D.dat' mode='r' encoding='cp1252'>\n",
      "<_io.TextIOWrapper name='Pathological-Training/Press_Final_PAR_143_350_3_93_214_214_3D.dat' mode='r' encoding='cp1252'>\n",
      "<_io.TextIOWrapper name='Pathological-Training/Press_Final_PAR_143_350_3_93_250_125_3D.dat' mode='r' encoding='cp1252'>\n",
      "<_io.TextIOWrapper name='Pathological-Training/Press_Final_PAR_143_350_3_93_286_143_3D.dat' mode='r' encoding='cp1252'>\n",
      "<_io.TextIOWrapper name='Pathological-Training/Press_Final_PAR_143_350_3_93_35_107_3D.dat' mode='r' encoding='cp1252'>\n",
      "<_io.TextIOWrapper name='Pathological-Training/Press_Final_PAR_143_350_3_93_35_125_3D.dat' mode='r' encoding='cp1252'>\n",
      "<_io.TextIOWrapper name='Pathological-Training/Press_Final_PAR_143_350_3_93_35_143_3D.dat' mode='r' encoding='cp1252'>\n",
      "<_io.TextIOWrapper name='Pathological-Training/Press_Final_PAR_143_350_3_93_35_17_3D.dat' mode='r' encoding='cp1252'>\n",
      "<_io.TextIOWrapper name='Pathological-Training/Press_Final_PAR_143_350_3_93_35_35_3D.dat' mode='r' encoding='cp1252'>\n",
      "<_io.TextIOWrapper name='Pathological-Training/Press_Final_PAR_143_350_3_93_35_53_3D.dat' mode='r' encoding='cp1252'>\n",
      "<_io.TextIOWrapper name='Pathological-Training/Press_Final_PAR_143_350_3_93_35_71_3D.dat' mode='r' encoding='cp1252'>\n",
      "<_io.TextIOWrapper name='Pathological-Training/Press_Final_PAR_143_350_3_93_35_89_3D.dat' mode='r' encoding='cp1252'>\n",
      "<_io.TextIOWrapper name='Pathological-Training/Press_Final_PAR_143_350_3_93_71_107_3D.dat' mode='r' encoding='cp1252'>\n",
      "<_io.TextIOWrapper name='Pathological-Training/Press_Final_PAR_143_350_3_93_71_143_3D.dat' mode='r' encoding='cp1252'>\n",
      "<_io.TextIOWrapper name='Pathological-Training/Press_Final_PAR_143_350_3_93_71_179_3D.dat' mode='r' encoding='cp1252'>\n",
      "<_io.TextIOWrapper name='Pathological-Training/Press_Final_PAR_143_350_3_93_71_35_3D.dat' mode='r' encoding='cp1252'>\n",
      "<_io.TextIOWrapper name='Pathological-Training/Press_Final_PAR_143_350_3_93_71_71_3D.dat' mode='r' encoding='cp1252'>\n",
      "<_io.TextIOWrapper name='Pathological-Training/foo.txt' mode='r' encoding='cp1252'>\n"
     ]
    },
    {
     "ename": "PermissionError",
     "evalue": "[Errno 13] Permission denied: 'Pathological-Training/.ipynb_checkpoints'",
     "output_type": "error",
     "traceback": [
      "\u001b[1;31m---------------------------------------------------------------------------\u001b[0m",
      "\u001b[1;31mPermissionError\u001b[0m                           Traceback (most recent call last)",
      "\u001b[1;32m<ipython-input-31-a6b0203eaa93>\u001b[0m in \u001b[0;36m<module>\u001b[1;34m\u001b[0m\n\u001b[0;32m     19\u001b[0m \u001b[1;33m\u001b[0m\u001b[0m\n\u001b[0;32m     20\u001b[0m \u001b[1;32mfor\u001b[0m \u001b[0mi\u001b[0m \u001b[1;32min\u001b[0m \u001b[0mrange\u001b[0m\u001b[1;33m(\u001b[0m\u001b[1;36m1\u001b[0m\u001b[1;33m,\u001b[0m\u001b[0mlen\u001b[0m\u001b[1;33m(\u001b[0m\u001b[0mNames_Pathological\u001b[0m\u001b[1;33m)\u001b[0m\u001b[1;33m)\u001b[0m\u001b[1;33m:\u001b[0m\u001b[1;33m\u001b[0m\u001b[1;33m\u001b[0m\u001b[0m\n\u001b[1;32m---> 21\u001b[1;33m     \u001b[0minfile\u001b[0m \u001b[1;33m=\u001b[0m \u001b[0mopen\u001b[0m\u001b[1;33m(\u001b[0m\u001b[0mpathological_path\u001b[0m\u001b[1;33m(\u001b[0m\u001b[0mNames_Pathological\u001b[0m\u001b[1;33m[\u001b[0m\u001b[0mi\u001b[0m\u001b[1;33m]\u001b[0m\u001b[1;33m)\u001b[0m\u001b[1;33m,\u001b[0m\u001b[1;34m'r'\u001b[0m\u001b[1;33m)\u001b[0m\u001b[1;33m\u001b[0m\u001b[1;33m\u001b[0m\u001b[0m\n\u001b[0m\u001b[0;32m     22\u001b[0m     \u001b[0mprint\u001b[0m\u001b[1;33m(\u001b[0m\u001b[0minfile\u001b[0m\u001b[1;33m)\u001b[0m\u001b[1;33m\u001b[0m\u001b[1;33m\u001b[0m\u001b[0m\n",
      "\u001b[1;31mPermissionError\u001b[0m: [Errno 13] Permission denied: 'Pathological-Training/.ipynb_checkpoints'"
     ]
    }
   ],
   "source": [
    "import tensorflow.keras as keras\n",
    "import tensorflow as tf\n",
    "import os\n",
    "import pandas as pd\n",
    "from os import listdir\n",
    "\n",
    "PATHOLOGICAL_ID = \"Pathological-Training/\"\n",
    "ACCEPTABLE_ID = \"Non-Pathological-Training\"\n",
    "\n",
    "def pathological_path(filename):\n",
    "    return os.path.join(PATHOLOGICAL_ID, filename)\n",
    "\n",
    "def acceptable_path(filename):\n",
    "    return os.path.join(ACCEPTABLE_ID, filename)\n",
    "\n",
    "\n",
    "Names_Pathological = os.listdir('Pathological-Training')\n",
    "Names_Acceptable = os.listdir('Non-Pathological-Training')\n",
    "\n",
    "for i in range(1,len(Names_Pathological)):\n",
    "    infile = open(pathological_path(Names_Pathological[i]),'r')\n",
    "    print(infile)\n"
   ]
  },
  {
   "cell_type": "code",
   "execution_count": null,
   "metadata": {},
   "outputs": [],
   "source": []
  },
  {
   "cell_type": "code",
   "execution_count": null,
   "metadata": {},
   "outputs": [],
   "source": []
  },
  {
   "cell_type": "code",
   "execution_count": null,
   "metadata": {},
   "outputs": [],
   "source": []
  },
  {
   "cell_type": "code",
   "execution_count": null,
   "metadata": {},
   "outputs": [],
   "source": []
  },
  {
   "cell_type": "code",
   "execution_count": null,
   "metadata": {},
   "outputs": [],
   "source": []
  }
 ],
 "metadata": {
  "kernelspec": {
   "display_name": "Python 3",
   "language": "python",
   "name": "python3"
  },
  "language_info": {
   "codemirror_mode": {
    "name": "ipython",
    "version": 3
   },
   "file_extension": ".py",
   "mimetype": "text/x-python",
   "name": "python",
   "nbconvert_exporter": "python",
   "pygments_lexer": "ipython3",
   "version": "3.7.3"
  }
 },
 "nbformat": 4,
 "nbformat_minor": 2
}
